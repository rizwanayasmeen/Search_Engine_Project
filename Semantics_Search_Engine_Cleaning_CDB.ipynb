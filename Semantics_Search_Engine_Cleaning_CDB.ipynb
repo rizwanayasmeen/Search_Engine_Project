{
 "cells": [
  {
   "cell_type": "code",
   "execution_count": 1,
   "id": "d01ef6dd-43b9-46d5-99f0-f76cdd5c247c",
   "metadata": {},
   "outputs": [
    {
     "name": "stderr",
     "output_type": "stream",
     "text": [
      "[nltk_data] Downloading package stopwords to\n",
      "[nltk_data]     C:\\Users\\yousu\\AppData\\Roaming\\nltk_data...\n",
      "[nltk_data]   Package stopwords is already up-to-date!\n",
      "[nltk_data] Downloading package wordnet to\n",
      "[nltk_data]     C:\\Users\\yousu\\AppData\\Roaming\\nltk_data...\n",
      "[nltk_data]   Package wordnet is already up-to-date!\n"
     ]
    }
   ],
   "source": [
    "import sqlite3\n",
    "import numpy as np\n",
    "import pandas as pd\n",
    "import io\n",
    "import zipfile\n",
    "import re\n",
    "import warnings\n",
    "warnings.filterwarnings('ignore')\n",
    "import nltk\n",
    "nltk.download('stopwords')\n",
    "nltk.download('wordnet')\n",
    "from bs4 import BeautifulSoup\n",
    "import string\n",
    "from nltk.corpus import stopwords\n",
    "from nltk.stem import PorterStemmer, WordNetLemmatizer\n",
    "from sentence_transformers import SentenceTransformer\n",
    "from sklearn.metrics.pairwise import cosine_similarity\n",
    "import torch\n",
    "from tqdm import tqdm\n",
    "from nltk.tokenize import word_tokenize\n",
    "import os"
   ]
  },
  {
   "cell_type": "code",
   "execution_count": 2,
   "id": "439464a9-b51d-4d54-9334-53ea80dab869",
   "metadata": {},
   "outputs": [
    {
     "name": "stdout",
     "output_type": "stream",
     "text": [
      "[('zipfiles',)]\n",
      "num\n",
      "name\n",
      "content\n"
     ]
    }
   ],
   "source": [
    "conn = sqlite3.connect('eng_subtitles_database.db')\n",
    "cursor = conn.cursor()\n",
    "cursor.execute(\"SELECT name FROM sqlite_master WHERE type='table'\")\n",
    "print(cursor.fetchall())\n",
    "\n",
    "cursor.execute(\"PRAGMA table_info('zipfiles')\")\n",
    "cols = cursor.fetchall()\n",
    "for col in cols:\n",
    "    print(col[1])"
   ]
  },
  {
   "cell_type": "code",
   "execution_count": 3,
   "id": "cd92d172-2307-4e34-a804-3eae03a47484",
   "metadata": {},
   "outputs": [
    {
     "data": {
      "text/html": [
       "<div>\n",
       "<style scoped>\n",
       "    .dataframe tbody tr th:only-of-type {\n",
       "        vertical-align: middle;\n",
       "    }\n",
       "\n",
       "    .dataframe tbody tr th {\n",
       "        vertical-align: top;\n",
       "    }\n",
       "\n",
       "    .dataframe thead th {\n",
       "        text-align: right;\n",
       "    }\n",
       "</style>\n",
       "<table border=\"1\" class=\"dataframe\">\n",
       "  <thead>\n",
       "    <tr style=\"text-align: right;\">\n",
       "      <th></th>\n",
       "      <th>num</th>\n",
       "      <th>name</th>\n",
       "      <th>content</th>\n",
       "    </tr>\n",
       "  </thead>\n",
       "  <tbody>\n",
       "    <tr>\n",
       "      <th>0</th>\n",
       "      <td>9180533</td>\n",
       "      <td>the.message.(1976).eng.1cd</td>\n",
       "      <td>b'PK\\x03\\x04\\x14\\x00\\x00\\x00\\x08\\x00\\x1c\\xa9\\x...</td>\n",
       "    </tr>\n",
       "    <tr>\n",
       "      <th>1</th>\n",
       "      <td>9180583</td>\n",
       "      <td>here.comes.the.grump.s01.e09.joltin.jack.in.bo...</td>\n",
       "      <td>b'PK\\x03\\x04\\x14\\x00\\x00\\x00\\x08\\x00\\x17\\xb9\\x...</td>\n",
       "    </tr>\n",
       "    <tr>\n",
       "      <th>2</th>\n",
       "      <td>9180592</td>\n",
       "      <td>yumis.cells.s02.e13.episode.2.13.(2022).eng.1cd</td>\n",
       "      <td>b'PK\\x03\\x04\\x14\\x00\\x00\\x00\\x08\\x00L\\xb9\\x99V...</td>\n",
       "    </tr>\n",
       "    <tr>\n",
       "      <th>3</th>\n",
       "      <td>9180594</td>\n",
       "      <td>yumis.cells.s02.e14.episode.2.14.(2022).eng.1cd</td>\n",
       "      <td>b'PK\\x03\\x04\\x14\\x00\\x00\\x00\\x08\\x00U\\xa9\\x99V...</td>\n",
       "    </tr>\n",
       "    <tr>\n",
       "      <th>4</th>\n",
       "      <td>9180600</td>\n",
       "      <td>broker.(2022).eng.1cd</td>\n",
       "      <td>b'PK\\x03\\x04\\x14\\x00\\x00\\x00\\x08\\x001\\xa9\\x99V...</td>\n",
       "    </tr>\n",
       "  </tbody>\n",
       "</table>\n",
       "</div>"
      ],
      "text/plain": [
       "       num                                               name  \\\n",
       "0  9180533                         the.message.(1976).eng.1cd   \n",
       "1  9180583  here.comes.the.grump.s01.e09.joltin.jack.in.bo...   \n",
       "2  9180592    yumis.cells.s02.e13.episode.2.13.(2022).eng.1cd   \n",
       "3  9180594    yumis.cells.s02.e14.episode.2.14.(2022).eng.1cd   \n",
       "4  9180600                              broker.(2022).eng.1cd   \n",
       "\n",
       "                                             content  \n",
       "0  b'PK\\x03\\x04\\x14\\x00\\x00\\x00\\x08\\x00\\x1c\\xa9\\x...  \n",
       "1  b'PK\\x03\\x04\\x14\\x00\\x00\\x00\\x08\\x00\\x17\\xb9\\x...  \n",
       "2  b'PK\\x03\\x04\\x14\\x00\\x00\\x00\\x08\\x00L\\xb9\\x99V...  \n",
       "3  b'PK\\x03\\x04\\x14\\x00\\x00\\x00\\x08\\x00U\\xa9\\x99V...  \n",
       "4  b'PK\\x03\\x04\\x14\\x00\\x00\\x00\\x08\\x001\\xa9\\x99V...  "
      ]
     },
     "execution_count": 3,
     "metadata": {},
     "output_type": "execute_result"
    }
   ],
   "source": [
    "df = pd.read_sql_query(\"\"\"SELECT * FROM zipfiles\"\"\", conn)\n",
    "df.head()"
   ]
  },
  {
   "cell_type": "code",
   "execution_count": 4,
   "id": "e5799ec8-9043-4fbb-8099-5df896fc60bf",
   "metadata": {},
   "outputs": [],
   "source": [
    "def extract_content(row):\n",
    "    binary_data = row['content']\n",
    "    with io.BytesIO(binary_data) as f:\n",
    "        with zipfile.ZipFile(f, 'r') as zip_file:\n",
    "            subtitle_content = zip_file.read(zip_file.namelist()[0])\n",
    "            return subtitle_content.decode('latin-1')  # Assuming the content is latin-1 encoded text\n",
    "\n",
    "# Apply the function to each row of the DataFrame\n",
    "df['extracted_content'] = df.apply(extract_content, axis=1)"
   ]
  },
  {
   "cell_type": "code",
   "execution_count": 5,
   "id": "e187c4d1-9ef2-4473-87b5-8ff2a84e1855",
   "metadata": {},
   "outputs": [
    {
     "data": {
      "text/html": [
       "<div>\n",
       "<style scoped>\n",
       "    .dataframe tbody tr th:only-of-type {\n",
       "        vertical-align: middle;\n",
       "    }\n",
       "\n",
       "    .dataframe tbody tr th {\n",
       "        vertical-align: top;\n",
       "    }\n",
       "\n",
       "    .dataframe thead th {\n",
       "        text-align: right;\n",
       "    }\n",
       "</style>\n",
       "<table border=\"1\" class=\"dataframe\">\n",
       "  <thead>\n",
       "    <tr style=\"text-align: right;\">\n",
       "      <th></th>\n",
       "      <th>num</th>\n",
       "      <th>name</th>\n",
       "      <th>content</th>\n",
       "      <th>extracted_content</th>\n",
       "    </tr>\n",
       "  </thead>\n",
       "  <tbody>\n",
       "    <tr>\n",
       "      <th>0</th>\n",
       "      <td>9180533</td>\n",
       "      <td>the.message.(1976).eng.1cd</td>\n",
       "      <td>b'PK\\x03\\x04\\x14\\x00\\x00\\x00\\x08\\x00\\x1c\\xa9\\x...</td>\n",
       "      <td>1\\r\\n00:00:06,000 --&gt; 00:00:12,074\\r\\nWatch an...</td>\n",
       "    </tr>\n",
       "    <tr>\n",
       "      <th>1</th>\n",
       "      <td>9180583</td>\n",
       "      <td>here.comes.the.grump.s01.e09.joltin.jack.in.bo...</td>\n",
       "      <td>b'PK\\x03\\x04\\x14\\x00\\x00\\x00\\x08\\x00\\x17\\xb9\\x...</td>\n",
       "      <td>1\\r\\n00:00:29,359 --&gt; 00:00:32,048\\r\\nAh! Ther...</td>\n",
       "    </tr>\n",
       "    <tr>\n",
       "      <th>2</th>\n",
       "      <td>9180592</td>\n",
       "      <td>yumis.cells.s02.e13.episode.2.13.(2022).eng.1cd</td>\n",
       "      <td>b'PK\\x03\\x04\\x14\\x00\\x00\\x00\\x08\\x00L\\xb9\\x99V...</td>\n",
       "      <td>1\\r\\n00:00:53,200 --&gt; 00:00:56,030\\r\\n&lt;i&gt;Yumi'...</td>\n",
       "    </tr>\n",
       "    <tr>\n",
       "      <th>3</th>\n",
       "      <td>9180594</td>\n",
       "      <td>yumis.cells.s02.e14.episode.2.14.(2022).eng.1cd</td>\n",
       "      <td>b'PK\\x03\\x04\\x14\\x00\\x00\\x00\\x08\\x00U\\xa9\\x99V...</td>\n",
       "      <td>1\\r\\n00:00:06,000 --&gt; 00:00:12,074\\r\\nWatch an...</td>\n",
       "    </tr>\n",
       "    <tr>\n",
       "      <th>4</th>\n",
       "      <td>9180600</td>\n",
       "      <td>broker.(2022).eng.1cd</td>\n",
       "      <td>b'PK\\x03\\x04\\x14\\x00\\x00\\x00\\x08\\x001\\xa9\\x99V...</td>\n",
       "      <td>ï»¿1\\r\\n00:00:06,000 --&gt; 00:00:12,074\\r\\nWatch...</td>\n",
       "    </tr>\n",
       "    <tr>\n",
       "      <th>...</th>\n",
       "      <td>...</td>\n",
       "      <td>...</td>\n",
       "      <td>...</td>\n",
       "      <td>...</td>\n",
       "    </tr>\n",
       "    <tr>\n",
       "      <th>82493</th>\n",
       "      <td>9521935</td>\n",
       "      <td>the.prophets.game.(2000).eng.1cd</td>\n",
       "      <td>b'PK\\x03\\x04\\x14\\x00\\x00\\x00\\x08\\x00\\xb8\\xa6\\x...</td>\n",
       "      <td>ï»¿1\\r\\n00:01:16,284 --&gt; 00:01:19,537\\r\\nGod,\\...</td>\n",
       "    </tr>\n",
       "    <tr>\n",
       "      <th>82494</th>\n",
       "      <td>9521937</td>\n",
       "      <td>west.beirut.(1998).eng.1cd</td>\n",
       "      <td>b'PK\\x03\\x04\\x14\\x00\\x00\\x00\\x08\\x00\\x13\\x97\\x...</td>\n",
       "      <td>1\\r\\n00:00:06,000 --&gt; 00:00:12,074\\r\\napi.Open...</td>\n",
       "    </tr>\n",
       "    <tr>\n",
       "      <th>82495</th>\n",
       "      <td>9521938</td>\n",
       "      <td>frankenstein.the.true.story.(1973).eng.1cd</td>\n",
       "      <td>b'PK\\x03\\x04\\x14\\x00\\x00\\x00\\x08\\x00$\\x97\\x9aV...</td>\n",
       "      <td>1\\r\\n00:00:01,001 --&gt; 00:00:04,630\\r\\n(Dramati...</td>\n",
       "    </tr>\n",
       "    <tr>\n",
       "      <th>82496</th>\n",
       "      <td>9521940</td>\n",
       "      <td>frankenstein.the.true.story.(1973).eng.1cd</td>\n",
       "      <td>b'PK\\x03\\x04\\x14\\x00\\x00\\x00\\x08\\x00\\x00\\x97\\x...</td>\n",
       "      <td>1\\r\\n00:00:06,000 --&gt; 00:00:12,074\\r\\nAdvertis...</td>\n",
       "    </tr>\n",
       "    <tr>\n",
       "      <th>82497</th>\n",
       "      <td>9521941</td>\n",
       "      <td>zombie.island.massacre.(1984).eng.1cd</td>\n",
       "      <td>b'PK\\x03\\x04\\x14\\x00\\x00\\x00\\x08\\x00,\\x97\\x9aV...</td>\n",
       "      <td>1\\r\\n00:00:01,919 --&gt; 00:00:03,253\\r\\n(Sharp w...</td>\n",
       "    </tr>\n",
       "  </tbody>\n",
       "</table>\n",
       "<p>82498 rows × 4 columns</p>\n",
       "</div>"
      ],
      "text/plain": [
       "           num                                               name  \\\n",
       "0      9180533                         the.message.(1976).eng.1cd   \n",
       "1      9180583  here.comes.the.grump.s01.e09.joltin.jack.in.bo...   \n",
       "2      9180592    yumis.cells.s02.e13.episode.2.13.(2022).eng.1cd   \n",
       "3      9180594    yumis.cells.s02.e14.episode.2.14.(2022).eng.1cd   \n",
       "4      9180600                              broker.(2022).eng.1cd   \n",
       "...        ...                                                ...   \n",
       "82493  9521935                   the.prophets.game.(2000).eng.1cd   \n",
       "82494  9521937                         west.beirut.(1998).eng.1cd   \n",
       "82495  9521938         frankenstein.the.true.story.(1973).eng.1cd   \n",
       "82496  9521940         frankenstein.the.true.story.(1973).eng.1cd   \n",
       "82497  9521941              zombie.island.massacre.(1984).eng.1cd   \n",
       "\n",
       "                                                 content  \\\n",
       "0      b'PK\\x03\\x04\\x14\\x00\\x00\\x00\\x08\\x00\\x1c\\xa9\\x...   \n",
       "1      b'PK\\x03\\x04\\x14\\x00\\x00\\x00\\x08\\x00\\x17\\xb9\\x...   \n",
       "2      b'PK\\x03\\x04\\x14\\x00\\x00\\x00\\x08\\x00L\\xb9\\x99V...   \n",
       "3      b'PK\\x03\\x04\\x14\\x00\\x00\\x00\\x08\\x00U\\xa9\\x99V...   \n",
       "4      b'PK\\x03\\x04\\x14\\x00\\x00\\x00\\x08\\x001\\xa9\\x99V...   \n",
       "...                                                  ...   \n",
       "82493  b'PK\\x03\\x04\\x14\\x00\\x00\\x00\\x08\\x00\\xb8\\xa6\\x...   \n",
       "82494  b'PK\\x03\\x04\\x14\\x00\\x00\\x00\\x08\\x00\\x13\\x97\\x...   \n",
       "82495  b'PK\\x03\\x04\\x14\\x00\\x00\\x00\\x08\\x00$\\x97\\x9aV...   \n",
       "82496  b'PK\\x03\\x04\\x14\\x00\\x00\\x00\\x08\\x00\\x00\\x97\\x...   \n",
       "82497  b'PK\\x03\\x04\\x14\\x00\\x00\\x00\\x08\\x00,\\x97\\x9aV...   \n",
       "\n",
       "                                       extracted_content  \n",
       "0      1\\r\\n00:00:06,000 --> 00:00:12,074\\r\\nWatch an...  \n",
       "1      1\\r\\n00:00:29,359 --> 00:00:32,048\\r\\nAh! Ther...  \n",
       "2      1\\r\\n00:00:53,200 --> 00:00:56,030\\r\\n<i>Yumi'...  \n",
       "3      1\\r\\n00:00:06,000 --> 00:00:12,074\\r\\nWatch an...  \n",
       "4      ï»¿1\\r\\n00:00:06,000 --> 00:00:12,074\\r\\nWatch...  \n",
       "...                                                  ...  \n",
       "82493  ï»¿1\\r\\n00:01:16,284 --> 00:01:19,537\\r\\nGod,\\...  \n",
       "82494  1\\r\\n00:00:06,000 --> 00:00:12,074\\r\\napi.Open...  \n",
       "82495  1\\r\\n00:00:01,001 --> 00:00:04,630\\r\\n(Dramati...  \n",
       "82496  1\\r\\n00:00:06,000 --> 00:00:12,074\\r\\nAdvertis...  \n",
       "82497  1\\r\\n00:00:01,919 --> 00:00:03,253\\r\\n(Sharp w...  \n",
       "\n",
       "[82498 rows x 4 columns]"
      ]
     },
     "execution_count": 5,
     "metadata": {},
     "output_type": "execute_result"
    }
   ],
   "source": [
    "df"
   ]
  },
  {
   "cell_type": "code",
   "execution_count": 6,
   "id": "c2b419ee-0df1-4f91-9008-b8d7d60fbc9c",
   "metadata": {},
   "outputs": [],
   "source": [
    "df.drop_duplicates(subset=['name'], inplace=True)"
   ]
  },
  {
   "cell_type": "code",
   "execution_count": 7,
   "id": "4c838400-41e0-4f9e-8443-1ae446011649",
   "metadata": {},
   "outputs": [
    {
     "data": {
      "text/html": [
       "<div>\n",
       "<style scoped>\n",
       "    .dataframe tbody tr th:only-of-type {\n",
       "        vertical-align: middle;\n",
       "    }\n",
       "\n",
       "    .dataframe tbody tr th {\n",
       "        vertical-align: top;\n",
       "    }\n",
       "\n",
       "    .dataframe thead th {\n",
       "        text-align: right;\n",
       "    }\n",
       "</style>\n",
       "<table border=\"1\" class=\"dataframe\">\n",
       "  <thead>\n",
       "    <tr style=\"text-align: right;\">\n",
       "      <th></th>\n",
       "      <th>num</th>\n",
       "      <th>name</th>\n",
       "      <th>content</th>\n",
       "      <th>extracted_content</th>\n",
       "    </tr>\n",
       "  </thead>\n",
       "  <tbody>\n",
       "    <tr>\n",
       "      <th>0</th>\n",
       "      <td>9180533</td>\n",
       "      <td>the.message.(1976).eng.1cd</td>\n",
       "      <td>b'PK\\x03\\x04\\x14\\x00\\x00\\x00\\x08\\x00\\x1c\\xa9\\x...</td>\n",
       "      <td>1\\r\\n00:00:06,000 --&gt; 00:00:12,074\\r\\nWatch an...</td>\n",
       "    </tr>\n",
       "    <tr>\n",
       "      <th>1</th>\n",
       "      <td>9180583</td>\n",
       "      <td>here.comes.the.grump.s01.e09.joltin.jack.in.bo...</td>\n",
       "      <td>b'PK\\x03\\x04\\x14\\x00\\x00\\x00\\x08\\x00\\x17\\xb9\\x...</td>\n",
       "      <td>1\\r\\n00:00:29,359 --&gt; 00:00:32,048\\r\\nAh! Ther...</td>\n",
       "    </tr>\n",
       "    <tr>\n",
       "      <th>2</th>\n",
       "      <td>9180592</td>\n",
       "      <td>yumis.cells.s02.e13.episode.2.13.(2022).eng.1cd</td>\n",
       "      <td>b'PK\\x03\\x04\\x14\\x00\\x00\\x00\\x08\\x00L\\xb9\\x99V...</td>\n",
       "      <td>1\\r\\n00:00:53,200 --&gt; 00:00:56,030\\r\\n&lt;i&gt;Yumi'...</td>\n",
       "    </tr>\n",
       "    <tr>\n",
       "      <th>3</th>\n",
       "      <td>9180594</td>\n",
       "      <td>yumis.cells.s02.e14.episode.2.14.(2022).eng.1cd</td>\n",
       "      <td>b'PK\\x03\\x04\\x14\\x00\\x00\\x00\\x08\\x00U\\xa9\\x99V...</td>\n",
       "      <td>1\\r\\n00:00:06,000 --&gt; 00:00:12,074\\r\\nWatch an...</td>\n",
       "    </tr>\n",
       "    <tr>\n",
       "      <th>4</th>\n",
       "      <td>9180600</td>\n",
       "      <td>broker.(2022).eng.1cd</td>\n",
       "      <td>b'PK\\x03\\x04\\x14\\x00\\x00\\x00\\x08\\x001\\xa9\\x99V...</td>\n",
       "      <td>ï»¿1\\r\\n00:00:06,000 --&gt; 00:00:12,074\\r\\nWatch...</td>\n",
       "    </tr>\n",
       "    <tr>\n",
       "      <th>...</th>\n",
       "      <td>...</td>\n",
       "      <td>...</td>\n",
       "      <td>...</td>\n",
       "      <td>...</td>\n",
       "    </tr>\n",
       "    <tr>\n",
       "      <th>82490</th>\n",
       "      <td>9521931</td>\n",
       "      <td>immanence.(2022).eng.1cd</td>\n",
       "      <td>b'PK\\x03\\x04\\x14\\x00\\x00\\x00\\x08\\x00\\xba\\x96\\x...</td>\n",
       "      <td>1\\r\\n00:00:06,000 --&gt; 00:00:12,074\\r\\nSupport ...</td>\n",
       "    </tr>\n",
       "    <tr>\n",
       "      <th>82493</th>\n",
       "      <td>9521935</td>\n",
       "      <td>the.prophets.game.(2000).eng.1cd</td>\n",
       "      <td>b'PK\\x03\\x04\\x14\\x00\\x00\\x00\\x08\\x00\\xb8\\xa6\\x...</td>\n",
       "      <td>ï»¿1\\r\\n00:01:16,284 --&gt; 00:01:19,537\\r\\nGod,\\...</td>\n",
       "    </tr>\n",
       "    <tr>\n",
       "      <th>82494</th>\n",
       "      <td>9521937</td>\n",
       "      <td>west.beirut.(1998).eng.1cd</td>\n",
       "      <td>b'PK\\x03\\x04\\x14\\x00\\x00\\x00\\x08\\x00\\x13\\x97\\x...</td>\n",
       "      <td>1\\r\\n00:00:06,000 --&gt; 00:00:12,074\\r\\napi.Open...</td>\n",
       "    </tr>\n",
       "    <tr>\n",
       "      <th>82495</th>\n",
       "      <td>9521938</td>\n",
       "      <td>frankenstein.the.true.story.(1973).eng.1cd</td>\n",
       "      <td>b'PK\\x03\\x04\\x14\\x00\\x00\\x00\\x08\\x00$\\x97\\x9aV...</td>\n",
       "      <td>1\\r\\n00:00:01,001 --&gt; 00:00:04,630\\r\\n(Dramati...</td>\n",
       "    </tr>\n",
       "    <tr>\n",
       "      <th>82497</th>\n",
       "      <td>9521941</td>\n",
       "      <td>zombie.island.massacre.(1984).eng.1cd</td>\n",
       "      <td>b'PK\\x03\\x04\\x14\\x00\\x00\\x00\\x08\\x00,\\x97\\x9aV...</td>\n",
       "      <td>1\\r\\n00:00:01,919 --&gt; 00:00:03,253\\r\\n(Sharp w...</td>\n",
       "    </tr>\n",
       "  </tbody>\n",
       "</table>\n",
       "<p>51929 rows × 4 columns</p>\n",
       "</div>"
      ],
      "text/plain": [
       "           num                                               name  \\\n",
       "0      9180533                         the.message.(1976).eng.1cd   \n",
       "1      9180583  here.comes.the.grump.s01.e09.joltin.jack.in.bo...   \n",
       "2      9180592    yumis.cells.s02.e13.episode.2.13.(2022).eng.1cd   \n",
       "3      9180594    yumis.cells.s02.e14.episode.2.14.(2022).eng.1cd   \n",
       "4      9180600                              broker.(2022).eng.1cd   \n",
       "...        ...                                                ...   \n",
       "82490  9521931                           immanence.(2022).eng.1cd   \n",
       "82493  9521935                   the.prophets.game.(2000).eng.1cd   \n",
       "82494  9521937                         west.beirut.(1998).eng.1cd   \n",
       "82495  9521938         frankenstein.the.true.story.(1973).eng.1cd   \n",
       "82497  9521941              zombie.island.massacre.(1984).eng.1cd   \n",
       "\n",
       "                                                 content  \\\n",
       "0      b'PK\\x03\\x04\\x14\\x00\\x00\\x00\\x08\\x00\\x1c\\xa9\\x...   \n",
       "1      b'PK\\x03\\x04\\x14\\x00\\x00\\x00\\x08\\x00\\x17\\xb9\\x...   \n",
       "2      b'PK\\x03\\x04\\x14\\x00\\x00\\x00\\x08\\x00L\\xb9\\x99V...   \n",
       "3      b'PK\\x03\\x04\\x14\\x00\\x00\\x00\\x08\\x00U\\xa9\\x99V...   \n",
       "4      b'PK\\x03\\x04\\x14\\x00\\x00\\x00\\x08\\x001\\xa9\\x99V...   \n",
       "...                                                  ...   \n",
       "82490  b'PK\\x03\\x04\\x14\\x00\\x00\\x00\\x08\\x00\\xba\\x96\\x...   \n",
       "82493  b'PK\\x03\\x04\\x14\\x00\\x00\\x00\\x08\\x00\\xb8\\xa6\\x...   \n",
       "82494  b'PK\\x03\\x04\\x14\\x00\\x00\\x00\\x08\\x00\\x13\\x97\\x...   \n",
       "82495  b'PK\\x03\\x04\\x14\\x00\\x00\\x00\\x08\\x00$\\x97\\x9aV...   \n",
       "82497  b'PK\\x03\\x04\\x14\\x00\\x00\\x00\\x08\\x00,\\x97\\x9aV...   \n",
       "\n",
       "                                       extracted_content  \n",
       "0      1\\r\\n00:00:06,000 --> 00:00:12,074\\r\\nWatch an...  \n",
       "1      1\\r\\n00:00:29,359 --> 00:00:32,048\\r\\nAh! Ther...  \n",
       "2      1\\r\\n00:00:53,200 --> 00:00:56,030\\r\\n<i>Yumi'...  \n",
       "3      1\\r\\n00:00:06,000 --> 00:00:12,074\\r\\nWatch an...  \n",
       "4      ï»¿1\\r\\n00:00:06,000 --> 00:00:12,074\\r\\nWatch...  \n",
       "...                                                  ...  \n",
       "82490  1\\r\\n00:00:06,000 --> 00:00:12,074\\r\\nSupport ...  \n",
       "82493  ï»¿1\\r\\n00:01:16,284 --> 00:01:19,537\\r\\nGod,\\...  \n",
       "82494  1\\r\\n00:00:06,000 --> 00:00:12,074\\r\\napi.Open...  \n",
       "82495  1\\r\\n00:00:01,001 --> 00:00:04,630\\r\\n(Dramati...  \n",
       "82497  1\\r\\n00:00:01,919 --> 00:00:03,253\\r\\n(Sharp w...  \n",
       "\n",
       "[51929 rows x 4 columns]"
      ]
     },
     "execution_count": 7,
     "metadata": {},
     "output_type": "execute_result"
    }
   ],
   "source": [
    "df"
   ]
  },
  {
   "cell_type": "code",
   "execution_count": 8,
   "id": "d52ea1d9-948d-48bb-a5c0-55ffeea39076",
   "metadata": {},
   "outputs": [],
   "source": [
    "df = df.iloc[0:2000]"
   ]
  },
  {
   "cell_type": "code",
   "execution_count": 9,
   "id": "bbfeab3a-f021-4ab7-9d72-3e4cfc7042c3",
   "metadata": {},
   "outputs": [
    {
     "name": "stdout",
     "output_type": "stream",
     "text": [
      "CPU times: total: 1.66 s\n",
      "Wall time: 4.2 s\n"
     ]
    }
   ],
   "source": [
    "def remove_pattern(content):\n",
    "    pattern = r'(\\r\\n)|(ï»¿)'\n",
    "    return re.sub(pattern, \" \", content)\n",
    "%time df['extracted_content'] = df['extracted_content'].apply(remove_pattern)"
   ]
  },
  {
   "cell_type": "code",
   "execution_count": 10,
   "id": "5290c0fa-edff-4f1a-8faa-43e962f212ef",
   "metadata": {},
   "outputs": [
    {
     "name": "stdout",
     "output_type": "stream",
     "text": [
      "CPU times: total: 734 ms\n",
      "Wall time: 1.49 s\n"
     ]
    }
   ],
   "source": [
    "def remove_series(text):\n",
    "    return re.sub(r\"\\d+\\s+\\d{2}:\\d{2}:\\d{2},\\d{3}\\s+-->\\s+\\d{2}:\\d{2}:\\d{2},\\d{3}\\s+\", \"\", text)\n",
    "\n",
    "%time df['extracted_content'] = df['extracted_content'].apply(remove_series)"
   ]
  },
  {
   "cell_type": "code",
   "execution_count": 11,
   "id": "5a19b0aa-4488-4a69-bb1b-ad72f4ad6694",
   "metadata": {},
   "outputs": [],
   "source": [
    "def clean_subtitle(subtitle):\n",
    "    # Remove the specified series\n",
    "    subtitle = re.sub(r\"Dialogue:\\s+0,0:00:06.00,0:00:12.074.*\\n\", \"\", subtitle)\n",
    "    # Remove the specified series\n",
    "    subtitle = re.sub(r\"\\{.*?\\}|\\\\N|\\\\[a-z]+\\d*|{\\*.*?}|{\\d+\\}|\\[[^\\]]+\\]|\\([^\\)]+\\)\", \"\", subtitle)\n",
    "    # Remove lines starting with [Script Info], [V4+ Styles], and [Events]\n",
    "    subtitle = re.sub(r\"^\\[(Script Info|V4\\+ Styles|Events)\\].*\\n\", \"\", subtitle, flags=re.MULTILINE)\n",
    "    # Remove lines starting with Format:, Style:, and Dialogue:\n",
    "    subtitle = re.sub(r\"^(Format|Style|Dialogue):\\s.*\\n\", \"\", subtitle, flags=re.MULTILINE)\n",
    "    # Remove leading and trailing whitespace\n",
    "    subtitle = subtitle.strip()\n",
    "    return subtitle"
   ]
  },
  {
   "cell_type": "code",
   "execution_count": 12,
   "id": "3def2e18-c6e4-4cbc-8c7c-0e4d43dc169d",
   "metadata": {},
   "outputs": [
    {
     "name": "stdout",
     "output_type": "stream",
     "text": [
      "CPU times: total: 328 ms\n",
      "Wall time: 846 ms\n"
     ]
    }
   ],
   "source": [
    "%time df['extracted_content'] = df['extracted_content'].apply(clean_subtitle)"
   ]
  },
  {
   "cell_type": "code",
   "execution_count": 13,
   "id": "a4c832a8-a45e-4301-aab5-2da8daa85613",
   "metadata": {},
   "outputs": [],
   "source": [
    "def clean_subtitle(subtitle):\n",
    "    # Remove the specified series\n",
    "    subtitle = re.sub(r\"Dialogue:\\s+0,0:00:06.00,0:00:12.074.*\\n\", \"\", subtitle)\n",
    "    # Remove lines starting with [Script Info], [V4+ Styles], and [Events]\n",
    "    subtitle = re.sub(r\"^\\[(Script Info|V4\\+ Styles|Events)\\].*\\n\", \"\", subtitle, flags=re.MULTILINE)\n",
    "    # Remove lines starting with Format:, Style:, and Dialogue:\n",
    "    subtitle = re.sub(r\"^(Format|Style|Dialogue):\\s.*\\n\", \"\", subtitle, flags=re.MULTILINE)\n",
    "    # Remove leading and trailing whitespace\n",
    "    subtitle = subtitle.strip()\n",
    "    return subtitle"
   ]
  },
  {
   "cell_type": "code",
   "execution_count": 14,
   "id": "efbc79e4-cf60-40ef-977d-35758f7dcdf7",
   "metadata": {},
   "outputs": [
    {
     "name": "stdout",
     "output_type": "stream",
     "text": [
      "CPU times: total: 328 ms\n",
      "Wall time: 686 ms\n"
     ]
    }
   ],
   "source": [
    "%time df['extracted_content'] = df['extracted_content'].apply(clean_subtitle)"
   ]
  },
  {
   "cell_type": "code",
   "execution_count": 16,
   "id": "5f3e2a54-89e4-4c12-9b37-027dcfc4798c",
   "metadata": {},
   "outputs": [],
   "source": [
    "def clean_subtitle(subtitle):\n",
    "    # Remove the specified series\n",
    "    subtitle = re.sub(r\"\\{.*?\\}|\\\\N|\\\\[a-z]+\\d*|{\\*.*?}|{\\d+\\}|\\[[^\\]]+\\]|\\([^\\)]+\\)\", \"\", subtitle)\n",
    "    # Remove lines starting with [Script Info], [V4+ Styles], and [Events]\n",
    "    subtitle = re.sub(r\"^\\[(Script Info|V4\\+ Styles|Events)\\].*\\n\", \"\", subtitle, flags=re.MULTILINE)\n",
    "    # Remove lines starting with Format:, Style:, and Dialogue:\n",
    "    subtitle = re.sub(r\"^(Format|Style|Dialogue):\\s.*\\n\", \"\", subtitle, flags=re.MULTILINE)\n",
    "    # Remove leading and trailing whitespace\n",
    "    subtitle = subtitle.strip()\n",
    "    return subtitle"
   ]
  },
  {
   "cell_type": "code",
   "execution_count": 17,
   "id": "418241e4-0879-4979-acc2-773761f73c03",
   "metadata": {},
   "outputs": [
    {
     "name": "stdout",
     "output_type": "stream",
     "text": [
      "CPU times: total: 328 ms\n",
      "Wall time: 713 ms\n"
     ]
    }
   ],
   "source": [
    "%time df['extracted_content'] = df['extracted_content'].apply(clean_subtitle)"
   ]
  },
  {
   "cell_type": "code",
   "execution_count": 18,
   "id": "3e0b587a-05bc-4278-807f-df01425db7c1",
   "metadata": {},
   "outputs": [],
   "source": [
    "lemmatizer = WordNetLemmatizer()\n",
    "def preprocess(text):\n",
    "    # Remove HTML tags\n",
    "    text = BeautifulSoup(text, \"html.parser\").get_text()\n",
    "    text=re.sub(\"[^A-Za-z0-9./:']\",\" \",text)\n",
    "    # Convert to lowercase\n",
    "    text = text.lower()\n",
    "    \n",
    "\n",
    "    return text"
   ]
  },
  {
   "cell_type": "code",
   "execution_count": 19,
   "id": "dc9a5d6e-6f02-47e9-bbc7-f14281998c1e",
   "metadata": {},
   "outputs": [
    {
     "name": "stdout",
     "output_type": "stream",
     "text": [
      "CPU times: total: 2.81 s\n",
      "Wall time: 5.4 s\n"
     ]
    }
   ],
   "source": [
    "%time df['extracted_content'] = df['extracted_content'].apply(preprocess)"
   ]
  },
  {
   "cell_type": "code",
   "execution_count": 20,
   "id": "aa202e7e-89e3-48b0-9387-4adfb41fd55e",
   "metadata": {},
   "outputs": [],
   "source": [
    "def clean_subtitle(subtitle):\n",
    "    # Remove the specified series\n",
    "    subtitle = re.sub(r\"\\{.*?\\}|\\\\N|\\\\[a-z]+\\d*|{\\*.*?}|{\\d+\\}|\\[[^\\]]+\\]|\\([^\\)]+\\)\", \"\", subtitle)\n",
    "    # Remove lines starting with [Script Info], [V4+ Styles], and [Events]\n",
    "    subtitle = re.sub(r\"^\\[(script info|v4\\+ styles|events)\\].*\\n\", \"\", subtitle, flags=re.MULTILINE)\n",
    "    # Remove lines starting with Format:, Style:, and Dialogue:\n",
    "    subtitle = re.sub(r\"^(format|style|dialogue):\\s.*\\n\", \"\", subtitle, flags=re.MULTILINE)\n",
    "    # Remove leading and trailing whitespace\n",
    "    subtitle = subtitle.strip()\n",
    "    return subtitle"
   ]
  },
  {
   "cell_type": "code",
   "execution_count": 21,
   "id": "3dfecc6d-7139-457f-af59-f855b8d789e1",
   "metadata": {},
   "outputs": [
    {
     "name": "stdout",
     "output_type": "stream",
     "text": [
      "CPU times: total: 359 ms\n",
      "Wall time: 770 ms\n"
     ]
    }
   ],
   "source": [
    "%time df['extracted_content'] = df['extracted_content'].apply(clean_subtitle)"
   ]
  },
  {
   "cell_type": "code",
   "execution_count": 22,
   "id": "b056a657-8990-4758-9b42-2920ebcf03ce",
   "metadata": {},
   "outputs": [],
   "source": [
    "df['name'] = df['name'].str.replace('.', ' ')\n",
    "df['name'] = df['name'].str.replace('.eng.1cd', '')"
   ]
  },
  {
   "cell_type": "code",
   "execution_count": 24,
   "id": "e83ac32c-4c17-48b6-b535-2d4d346004ba",
   "metadata": {},
   "outputs": [],
   "source": [
    "df['name'] = df['name'].str.replace(' eng 1cd', '')"
   ]
  },
  {
   "cell_type": "code",
   "execution_count": 25,
   "id": "0503adb0-a577-4cfc-8875-e1621047722b",
   "metadata": {},
   "outputs": [
    {
     "data": {
      "text/html": [
       "<div>\n",
       "<style scoped>\n",
       "    .dataframe tbody tr th:only-of-type {\n",
       "        vertical-align: middle;\n",
       "    }\n",
       "\n",
       "    .dataframe tbody tr th {\n",
       "        vertical-align: top;\n",
       "    }\n",
       "\n",
       "    .dataframe thead th {\n",
       "        text-align: right;\n",
       "    }\n",
       "</style>\n",
       "<table border=\"1\" class=\"dataframe\">\n",
       "  <thead>\n",
       "    <tr style=\"text-align: right;\">\n",
       "      <th></th>\n",
       "      <th>num</th>\n",
       "      <th>name</th>\n",
       "      <th>content</th>\n",
       "      <th>extracted_content</th>\n",
       "    </tr>\n",
       "  </thead>\n",
       "  <tbody>\n",
       "    <tr>\n",
       "      <th>0</th>\n",
       "      <td>9180533</td>\n",
       "      <td>the message (1976)</td>\n",
       "      <td>b'PK\\x03\\x04\\x14\\x00\\x00\\x00\\x08\\x00\\x1c\\xa9\\x...</td>\n",
       "      <td>watch any video online with open subtitles fre...</td>\n",
       "    </tr>\n",
       "    <tr>\n",
       "      <th>1</th>\n",
       "      <td>9180583</td>\n",
       "      <td>here comes the grump s01 e09 joltin jack in bo...</td>\n",
       "      <td>b'PK\\x03\\x04\\x14\\x00\\x00\\x00\\x08\\x00\\x17\\xb9\\x...</td>\n",
       "      <td>ah  there's princess dawn and terry with the  ...</td>\n",
       "    </tr>\n",
       "    <tr>\n",
       "      <th>2</th>\n",
       "      <td>9180592</td>\n",
       "      <td>yumis cells s02 e13 episode 2 13 (2022)</td>\n",
       "      <td>b'PK\\x03\\x04\\x14\\x00\\x00\\x00\\x08\\x00L\\xb9\\x99V...</td>\n",
       "      <td>yumi's cells 2 episode 36 extremely polite yum...</td>\n",
       "    </tr>\n",
       "    <tr>\n",
       "      <th>3</th>\n",
       "      <td>9180594</td>\n",
       "      <td>yumis cells s02 e14 episode 2 14 (2022)</td>\n",
       "      <td>b'PK\\x03\\x04\\x14\\x00\\x00\\x00\\x08\\x00U\\xa9\\x99V...</td>\n",
       "      <td>watch any video online with open subtitles fre...</td>\n",
       "    </tr>\n",
       "    <tr>\n",
       "      <th>4</th>\n",
       "      <td>9180600</td>\n",
       "      <td>broker (2022)</td>\n",
       "      <td>b'PK\\x03\\x04\\x14\\x00\\x00\\x00\\x08\\x001\\xa9\\x99V...</td>\n",
       "      <td>watch any video online with open subtitles fre...</td>\n",
       "    </tr>\n",
       "    <tr>\n",
       "      <th>...</th>\n",
       "      <td>...</td>\n",
       "      <td>...</td>\n",
       "      <td>...</td>\n",
       "      <td>...</td>\n",
       "    </tr>\n",
       "    <tr>\n",
       "      <th>3093</th>\n",
       "      <td>9195008</td>\n",
       "      <td>the roads not taken (2020)</td>\n",
       "      <td>b'PK\\x03\\x04\\x14\\x00\\x00\\x00\\x08\\x00\\x11\\x8c\\x...</td>\n",
       "      <td>watch any video online with open subtitles fre...</td>\n",
       "    </tr>\n",
       "    <tr>\n",
       "      <th>3094</th>\n",
       "      <td>9195009</td>\n",
       "      <td>all or nothing arsenal s01 e03 stay in the gam...</td>\n",
       "      <td>b'PK\\x03\\x04\\x14\\x00\\x00\\x00\\x08\\x003\\x8c\\x99V...</td>\n",
       "      <td>get close guys  come on.  friday night  guys. ...</td>\n",
       "    </tr>\n",
       "    <tr>\n",
       "      <th>3095</th>\n",
       "      <td>9195010</td>\n",
       "      <td>sonata (2021)</td>\n",
       "      <td>b'PK\\x03\\x04\\x14\\x00\\x00\\x00\\x08\\x00%\\x8c\\x99V...</td>\n",
       "      <td>watch any video online with open subtitles fre...</td>\n",
       "    </tr>\n",
       "    <tr>\n",
       "      <th>3096</th>\n",
       "      <td>9195011</td>\n",
       "      <td>yan zhi kou (1987)</td>\n",
       "      <td>b'PK\\x03\\x04\\x14\\x00\\x00\\x00\\x08\\x00\\x1d\\x8c\\x...</td>\n",
       "      <td>advertise your product or brand here contact w...</td>\n",
       "    </tr>\n",
       "    <tr>\n",
       "      <th>3100</th>\n",
       "      <td>9195017</td>\n",
       "      <td>all rise s03 e09 truth hurts (2022)</td>\n",
       "      <td>b'PK\\x03\\x04\\x14\\x00\\x00\\x00\\x08\\x00/\\x8c\\x99V...</td>\n",
       "      <td>previously on  all rise ...    you look sensat...</td>\n",
       "    </tr>\n",
       "  </tbody>\n",
       "</table>\n",
       "<p>2000 rows × 4 columns</p>\n",
       "</div>"
      ],
      "text/plain": [
       "          num                                               name  \\\n",
       "0     9180533                                 the message (1976)   \n",
       "1     9180583  here comes the grump s01 e09 joltin jack in bo...   \n",
       "2     9180592            yumis cells s02 e13 episode 2 13 (2022)   \n",
       "3     9180594            yumis cells s02 e14 episode 2 14 (2022)   \n",
       "4     9180600                                      broker (2022)   \n",
       "...       ...                                                ...   \n",
       "3093  9195008                         the roads not taken (2020)   \n",
       "3094  9195009  all or nothing arsenal s01 e03 stay in the gam...   \n",
       "3095  9195010                                      sonata (2021)   \n",
       "3096  9195011                                 yan zhi kou (1987)   \n",
       "3100  9195017                all rise s03 e09 truth hurts (2022)   \n",
       "\n",
       "                                                content  \\\n",
       "0     b'PK\\x03\\x04\\x14\\x00\\x00\\x00\\x08\\x00\\x1c\\xa9\\x...   \n",
       "1     b'PK\\x03\\x04\\x14\\x00\\x00\\x00\\x08\\x00\\x17\\xb9\\x...   \n",
       "2     b'PK\\x03\\x04\\x14\\x00\\x00\\x00\\x08\\x00L\\xb9\\x99V...   \n",
       "3     b'PK\\x03\\x04\\x14\\x00\\x00\\x00\\x08\\x00U\\xa9\\x99V...   \n",
       "4     b'PK\\x03\\x04\\x14\\x00\\x00\\x00\\x08\\x001\\xa9\\x99V...   \n",
       "...                                                 ...   \n",
       "3093  b'PK\\x03\\x04\\x14\\x00\\x00\\x00\\x08\\x00\\x11\\x8c\\x...   \n",
       "3094  b'PK\\x03\\x04\\x14\\x00\\x00\\x00\\x08\\x003\\x8c\\x99V...   \n",
       "3095  b'PK\\x03\\x04\\x14\\x00\\x00\\x00\\x08\\x00%\\x8c\\x99V...   \n",
       "3096  b'PK\\x03\\x04\\x14\\x00\\x00\\x00\\x08\\x00\\x1d\\x8c\\x...   \n",
       "3100  b'PK\\x03\\x04\\x14\\x00\\x00\\x00\\x08\\x00/\\x8c\\x99V...   \n",
       "\n",
       "                                      extracted_content  \n",
       "0     watch any video online with open subtitles fre...  \n",
       "1     ah  there's princess dawn and terry with the  ...  \n",
       "2     yumi's cells 2 episode 36 extremely polite yum...  \n",
       "3     watch any video online with open subtitles fre...  \n",
       "4     watch any video online with open subtitles fre...  \n",
       "...                                                 ...  \n",
       "3093  watch any video online with open subtitles fre...  \n",
       "3094  get close guys  come on.  friday night  guys. ...  \n",
       "3095  watch any video online with open subtitles fre...  \n",
       "3096  advertise your product or brand here contact w...  \n",
       "3100  previously on  all rise ...    you look sensat...  \n",
       "\n",
       "[2000 rows x 4 columns]"
      ]
     },
     "execution_count": 25,
     "metadata": {},
     "output_type": "execute_result"
    }
   ],
   "source": [
    "df"
   ]
  },
  {
   "cell_type": "code",
   "execution_count": 26,
   "id": "199000bf-ed32-4a50-8670-e2b96fd163da",
   "metadata": {},
   "outputs": [
    {
     "name": "stdout",
     "output_type": "stream",
     "text": [
      "CPU times: total: 0 ns\n",
      "Wall time: 1.71 ms\n"
     ]
    }
   ],
   "source": [
    "def remove_name(text):\n",
    "    text = re.sub(r'episode\\s\\d+\\s\\d+','',text)\n",
    "    return text\n",
    "\n",
    "%time df['name'] = df['name'].apply(remove_name)"
   ]
  },
  {
   "cell_type": "code",
   "execution_count": 27,
   "id": "96abc62f-013b-4440-b857-a380f10ae655",
   "metadata": {},
   "outputs": [],
   "source": [
    "def remove_double_spaces(content):\n",
    "    return re.sub(r'\\s+', ' ', content)\n",
    "\n",
    "# Apply the function to each row of the DataFrame\n",
    "df['extracted_content'] = df['extracted_content'].apply(remove_double_spaces)"
   ]
  },
  {
   "cell_type": "code",
   "execution_count": 28,
   "id": "02e3c829-34c0-432f-99b0-0ee6ae3e738c",
   "metadata": {},
   "outputs": [],
   "source": [
    "df['extracted_content'] = df['extracted_content'].apply(lambda x: x.strip())"
   ]
  },
  {
   "cell_type": "code",
   "execution_count": 29,
   "id": "80abb546-af80-4582-9c7a-caf58afed8c4",
   "metadata": {},
   "outputs": [],
   "source": [
    "from nltk.tokenize import word_tokenize\n",
    "CHUNK_SIZE = 500  # Adjust this size to control the number of words in each chunk\n",
    "OVERLAP_SIZE = 100  # Adjust this size to control the overlap between chunks\n",
    "\n",
    "def chunk_content(content):\n",
    "    # Tokenize the input content into words\n",
    "    words = word_tokenize(content)\n",
    "    \n",
    "    # Initialize a list to hold the chunks\n",
    "    chunks = []\n",
    "    \n",
    "    # Create chunks based on the specified chunk size and overlap size\n",
    "    for i in range(0, len(words), CHUNK_SIZE - OVERLAP_SIZE):\n",
    "        # Calculate the end index of the current chunk\n",
    "        end_index = i + CHUNK_SIZE\n",
    "        \n",
    "        # Create a chunk by slicing the words list\n",
    "        chunk = words[i:end_index]\n",
    "        \n",
    "        # Convert the chunk list back to a single string\n",
    "        chunk_text = ' '.join(chunk)\n",
    "        \n",
    "        # Add the chunk text to the chunks list\n",
    "        chunks.append(chunk_text)\n",
    "    \n",
    "    # Return the list of chunks\n",
    "    return chunks"
   ]
  },
  {
   "cell_type": "code",
   "execution_count": 30,
   "id": "82697162-0f40-4b89-8d1d-aa11fa0c2f8c",
   "metadata": {},
   "outputs": [
    {
     "name": "stdout",
     "output_type": "stream",
     "text": [
      "CPU times: total: 35.2 s\n",
      "Wall time: 1min 2s\n"
     ]
    }
   ],
   "source": [
    "%time df['chunk_content'] = df['extracted_content'].apply(chunk_content)"
   ]
  },
  {
   "cell_type": "code",
   "execution_count": null,
   "id": "9dd722e8-933c-4bc1-98a5-49c4207434d1",
   "metadata": {},
   "outputs": [],
   "source": []
  },
  {
   "cell_type": "code",
   "execution_count": null,
   "id": "bd0d35bf-4d2f-45ff-8413-a66a83727771",
   "metadata": {},
   "outputs": [],
   "source": []
  },
  {
   "cell_type": "code",
   "execution_count": null,
   "id": "b23ee0e1-8c08-4881-aa35-72320fb4f2a8",
   "metadata": {},
   "outputs": [],
   "source": []
  },
  {
   "cell_type": "code",
   "execution_count": null,
   "id": "fe15012a-6c7d-4af4-b5a7-051af0b287da",
   "metadata": {},
   "outputs": [],
   "source": []
  },
  {
   "cell_type": "code",
   "execution_count": null,
   "id": "9561599e-fcb6-4b1e-903a-f45c50eb2090",
   "metadata": {},
   "outputs": [],
   "source": []
  },
  {
   "cell_type": "code",
   "execution_count": null,
   "id": "6cbc80fa-760e-43cd-8a96-0254631a8c00",
   "metadata": {},
   "outputs": [],
   "source": []
  },
  {
   "cell_type": "code",
   "execution_count": null,
   "id": "061f2e12-628c-4d4c-b160-fffe82c90f31",
   "metadata": {},
   "outputs": [],
   "source": []
  },
  {
   "cell_type": "code",
   "execution_count": null,
   "id": "0b0b3a36-1613-41cd-ab91-07a542682060",
   "metadata": {},
   "outputs": [],
   "source": []
  },
  {
   "cell_type": "code",
   "execution_count": null,
   "id": "9632fcb6-47ac-4667-a650-f75fc49cbc00",
   "metadata": {},
   "outputs": [],
   "source": []
  },
  {
   "cell_type": "code",
   "execution_count": null,
   "id": "99762a60-6ba1-4c2f-b89c-866ff5d4568c",
   "metadata": {},
   "outputs": [],
   "source": []
  },
  {
   "cell_type": "code",
   "execution_count": 32,
   "id": "3d63152c-5ca9-4dd3-a46c-3073b65b9ab2",
   "metadata": {},
   "outputs": [
    {
     "name": "stdout",
     "output_type": "stream",
     "text": [
      "['the message (1976)', 'the myth (2005)', 'doctor lawyer s01 e14  (2022)', 'the governor s01 e01  (1995)', 'reetur s01 e04 the second time will be easier (2020)', 'westworld s04 e05 zhuangzi (2022)', 'avaete semente da vinganca (1985)', 'the anarchists s01 e03 currency (2022)', 'mo jong yuen so hatyi (1992)', 'yumis cells s02 e13  (2022)']\n"
     ]
    }
   ],
   "source": [
    "import sqlite3\n",
    "import json\n",
    "\n",
    "# Function to persist data to SQLite database\n",
    "def persist_to_database(database_path, data):\n",
    "    conn = sqlite3.connect(database_path)\n",
    "    c = conn.cursor()\n",
    "    c.execute('''CREATE TABLE IF NOT EXISTS records\n",
    "                 (num TEXT, name TEXT, embeddings TEXT)''')\n",
    "    \n",
    "    for record in data:\n",
    "        num = record['num']\n",
    "        name = record['name']\n",
    "        embeddings = json.dumps(record['embeddings'])  # Convert embeddings list to JSON string\n",
    "        c.execute(\"INSERT INTO records (num, name, embeddings) VALUES (?, ?, ?)\", (num, name, embeddings))\n",
    "    \n",
    "    conn.commit()\n",
    "    conn.close()\n",
    "\n",
    "# Initialize BERT model\n",
    "model = SentenceTransformer('bert-base-nli-mean-tokens')\n",
    "\n",
    "# Example DataFrame with columns: num, name, clean_content\n",
    "df1 = df.head(100)\n",
    "\n",
    "# Chunk size and overlap\n",
    "chunk_size = 512  # Adjust this according to your needs\n",
    "overlap_size = 100  # Adjust this according to your needs\n",
    "\n",
    "# Example data processing, chunking, and encoding\n",
    "data_to_persist = []\n",
    "for index, row in df1.iterrows():\n",
    "    num = row['num']\n",
    "    name = row['name']\n",
    "    clean_content = row['extracted_content']\n",
    "    chunks = [clean_content[i:i+chunk_size] for i in range(0, len(clean_content), chunk_size - overlap_size)]\n",
    "    for i, chunk in enumerate(chunks):\n",
    "        embeddings = model.encode([chunk])[0].tolist()\n",
    "        data_to_persist.append({'num': f\"{num}_chunk{i+1}\", 'name': name, 'embeddings': embeddings})\n",
    "\n",
    "# Database path\n",
    "database_path = 'C:\\\\Users\\\\yousu\\\\OneDrive\\\\Python_Files\\\\Search Engine\\\\chroma1.sqlite3'\n",
    "\n",
    "# Persist data to SQLite database\n",
    "persist_to_database(database_path, data_to_persist)\n",
    "\n",
    "# Function to retrieve top 10 similar records based on query\n",
    "def get_top_10_unique_names(query, database_path):\n",
    "    conn = sqlite3.connect(database_path)\n",
    "    c = conn.cursor()\n",
    "    \n",
    "    query_embedding = model.encode([query])\n",
    "    similarities = []\n",
    "    c.execute(\"SELECT * FROM records\")\n",
    "    for row in c.fetchall():\n",
    "        record_num, record_name, record_embeddings = row\n",
    "        embeddings = json.loads(record_embeddings)\n",
    "        embeddings = np.array(embeddings).reshape(1, -1)\n",
    "        similarity = cosine_similarity(query_embedding, embeddings)[0][0]\n",
    "        similarities.append((record_name, similarity))\n",
    "    \n",
    "    # Sort by similarity score and extract unique names\n",
    "    sorted_names = [name for name, _ in sorted(similarities, key=lambda x: x[1], reverse=True)]\n",
    "    unique_names = []\n",
    "    for name in sorted_names:\n",
    "        if name not in unique_names:\n",
    "            unique_names.append(name)\n",
    "            if len(unique_names) == 10:\n",
    "                break\n",
    "    \n",
    "    conn.close()\n",
    "    return unique_names\n",
    "\n",
    "# Example usage\n",
    "query = \"from muhammad the messenger of god to heraclius the emperor of byzantium. greeting to him who is the follower of righteous guidance. i bid you to hear the divine call. i am the messenger of god to the people accept islam for your salvation.\"\n",
    "top_10_unique_names = get_top_10_unique_names(query, database_path)\n",
    "print(top_10_unique_names)"
   ]
  },
  {
   "cell_type": "code",
   "execution_count": null,
   "id": "16718f93-54d6-4f7e-be33-d77530dac56e",
   "metadata": {},
   "outputs": [],
   "source": []
  }
 ],
 "metadata": {
  "kernelspec": {
   "display_name": "Python 3 (ipykernel)",
   "language": "python",
   "name": "python3"
  },
  "language_info": {
   "codemirror_mode": {
    "name": "ipython",
    "version": 3
   },
   "file_extension": ".py",
   "mimetype": "text/x-python",
   "name": "python",
   "nbconvert_exporter": "python",
   "pygments_lexer": "ipython3",
   "version": "3.11.7"
  }
 },
 "nbformat": 4,
 "nbformat_minor": 5
}
